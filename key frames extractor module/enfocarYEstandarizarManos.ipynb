{
 "cells": [
  {
   "cell_type": "code",
   "execution_count": 17,
   "metadata": {},
   "outputs": [],
   "source": [
    "import cv2\n",
    "import mediapipe as mp\n",
    "import numpy as np"
   ]
  },
  {
   "cell_type": "code",
   "execution_count": 18,
   "metadata": {},
   "outputs": [],
   "source": [
    "def initialize_mediapipe():\n",
    "    mp_hands = mp.solutions.hands\n",
    "    mp_drawing = mp.solutions.drawing_utils\n",
    "    hands = mp_hands.Hands(static_image_mode=False, max_num_hands=2, min_detection_confidence=0.5, min_tracking_confidence=0.5)\n",
    "    return mp_hands, mp_drawing, hands\n",
    "def extract_and_standardize_hand_roi(frame, target_size=(224, 224), margen=50):\n",
    "    \n",
    "    mp_hands, mp_drawing, hands=initialize_mediapipe()\n",
    "    frame_rgb = cv2.cvtColor(frame, cv2.COLOR_BGR2RGB)\n",
    "    results = hands.process(frame_rgb)\n",
    "    \n",
    "    if results.multi_hand_landmarks:\n",
    "        h, w, _ = frame.shape\n",
    "        \n",
    "        # Inicializar límites combinados\n",
    "        x_min = w\n",
    "        x_max = 0\n",
    "        y_min = h\n",
    "        y_max = 0\n",
    "        \n",
    "        # Combinar las coordenadas de todas las manos\n",
    "        for landmarks in results.multi_hand_landmarks:\n",
    "            x_min = min(x_min, min(int(landmark.x * w) for landmark in landmarks.landmark))\n",
    "            x_max = max(x_max, max(int(landmark.x * w) for landmark in landmarks.landmark))\n",
    "            y_min = min(y_min, min(int(landmark.y * h) for landmark in landmarks.landmark))\n",
    "            y_max = max(y_max, max(int(landmark.y * h) for landmark in landmarks.landmark))\n",
    "\n",
    "        # Asegurarse de que las coordenadas sean válidas\n",
    "        x_min = max(0, x_min - margen)\n",
    "        x_max = min(w, x_max + margen)\n",
    "        y_min = max(0, y_min - margen)\n",
    "        y_max = min(h, y_max + margen)\n",
    "        \n",
    "        roi = frame[y_min:y_max, x_min:x_max]\n",
    "        \n",
    "        # Redimensionar manteniendo la relación de aspecto\n",
    "        roi_height, roi_width = roi.shape[:2]\n",
    "        target_width, target_height = target_size\n",
    "        \n",
    "        # Calcular el factor de escala para mantener la relación de aspecto\n",
    "        scale = min(target_width / roi_width, target_height / roi_height)\n",
    "        new_width = int(roi_width * scale)\n",
    "        new_height = int(roi_height * scale)\n",
    "        \n",
    "        # Redimensionar la ROI\n",
    "        roi_resized = cv2.resize(roi, (new_width, new_height), interpolation=cv2.INTER_AREA)\n",
    "        \n",
    "        # Crear una imagen en blanco del tamaño objetivo\n",
    "        result = np.zeros((target_height, target_width, 3), dtype=np.uint8)\n",
    "        \n",
    "        # Calcular la posición para centrar la imagen redimensionada\n",
    "        x_offset = (target_width - new_width) // 2\n",
    "        y_offset = (target_height - new_height) // 2\n",
    "        \n",
    "        # Colocar la ROI redimensionada en el centro de la imagen en blanco\n",
    "        result[y_offset:y_offset + new_height, x_offset:x_offset + new_width] = roi_resized\n",
    "\n",
    "        return result\n",
    "\n",
    "    return None \n",
    "\n",
    "def save_key_frame(key_frame, output_folder):\n",
    "    cv2.imwrite(f'{output_folder}/key_frame_1.png', key_frame)"
   ]
  },
  {
   "cell_type": "code",
   "execution_count": 19,
   "metadata": {},
   "outputs": [],
   "source": [
    "foto=cv2.imread('C:\\\\Users\\\\48113164\\\\Documents\\\\GitHub\\\\SignAI-IA.dev\\\\recursos\\\\a.jpg')\n",
    "output_folder='C:\\\\Users\\\\48113164\\\\Documents\\\\GitHub\\\\SignAI-IA.dev\\\\recursos'\n",
    "frame= extract_and_standardize_hand_roi(foto)\n",
    "save_key_frame(frame, output_folder)"
   ]
  },
  {
   "cell_type": "code",
   "execution_count": null,
   "metadata": {},
   "outputs": [],
   "source": []
  }
 ],
 "metadata": {
  "kernelspec": {
   "display_name": ".venv",
   "language": "python",
   "name": "python3"
  },
  "language_info": {
   "codemirror_mode": {
    "name": "ipython",
    "version": 3
   },
   "file_extension": ".py",
   "mimetype": "text/x-python",
   "name": "python",
   "nbconvert_exporter": "python",
   "pygments_lexer": "ipython3",
   "version": "3.10.0"
  }
 },
 "nbformat": 4,
 "nbformat_minor": 2
}
