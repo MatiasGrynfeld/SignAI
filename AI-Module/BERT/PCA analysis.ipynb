{
 "cells": [
  {
   "cell_type": "code",
   "execution_count": 1,
   "metadata": {},
   "outputs": [],
   "source": [
    "import numpy as np\n",
    "import matplotlib.pyplot as plt"
   ]
  },
  {
   "cell_type": "code",
   "execution_count": null,
   "metadata": {},
   "outputs": [],
   "source": [
    "file = '0.npy'\n",
    "item_with_index = np.load(file, allow_pickle=True)\n",
    "item = item_with_index[0].astype(np.float16)\n",
    "max_len = 2537\n",
    "def add_padding(max_frames, item):\n",
    "    current_length = item.shape[0]\n",
    "    if current_length < max_frames:\n",
    "        padding = np.full(\n",
    "            (max_frames - current_length, 2172), \n",
    "            -1,\n",
    "            dtype=np.float16\n",
    "        )\n",
    "        padding[:, 3::4] = 0\n",
    "        item = np.concatenate((item, padding), axis=0)\n",
    "    return item\n",
    "matrix = add_padding(max_len, item)\n",
    "print(matrix.shape)"
   ]
  },
  {
   "cell_type": "code",
   "execution_count": 3,
   "metadata": {},
   "outputs": [],
   "source": [
    "# Paso 1: Generar la matriz y centrar los datos restando la media de cada columna\n",
    "matrix_meaned = matrix - np.mean(matrix, axis=0)\n",
    "\n",
    "# Paso 2: Calcular la matriz de covarianza\n",
    "cov_matrix = np.cov(matrix_meaned, rowvar=False)\n",
    "\n",
    "# Paso 3: Calcular los valores y vectores propios\n",
    "eigenvalues, eigenvectors = np.linalg.eigh(cov_matrix)\n",
    "\n",
    "# Paso 4: Filtrar valores propios negativos o muy cercanos a cero\n",
    "eigenvalues = eigenvalues[eigenvalues > 1e-10]  # Filtramos los valores muy pequeños o negativos\n",
    "\n",
    "# Ordenar los valores propios en orden descendente\n",
    "sorted_eigenvalues = np.sort(eigenvalues)[::-1]"
   ]
  },
  {
   "cell_type": "code",
   "execution_count": null,
   "metadata": {},
   "outputs": [],
   "source": [
    "sorted_eigenvalues"
   ]
  },
  {
   "cell_type": "code",
   "execution_count": null,
   "metadata": {},
   "outputs": [],
   "source": [
    "# Paso 5: Graficar los valores propios en un gráfico de barras verticales (bar)\n",
    "plt.figure(figsize=(10, 8))\n",
    "plt.bar(range(len(sorted_eigenvalues)), sorted_eigenvalues, color='blue')\n",
    "plt.xlabel('Component Number')\n",
    "plt.ylabel('Eigenvalue')\n",
    "plt.title('PCA Eigenvalues Ordered by Importance')\n",
    "\n",
    "plt.show()"
   ]
  },
  {
   "cell_type": "code",
   "execution_count": null,
   "metadata": {},
   "outputs": [],
   "source": [
    "pc = PCA()\n",
    "pc.fit(matrix)"
   ]
  },
  {
   "cell_type": "code",
   "execution_count": null,
   "metadata": {},
   "outputs": [],
   "source": [
    "plt.figure(figsize=(10, 5))\n",
    "plt.title('Principal Component Analysis')\n",
    "plt.plot(pc.explained_variance_ratio_)\n",
    "print(pc.explained_variance_ratio_)\n",
    "plt.legend(['Explained Variance'])\n",
    "plt.xlabel('N Components')\n",
    "plt.ylabel('Explained Variance Ratio')\n",
    "plt.show()"
   ]
  },
  {
   "cell_type": "code",
   "execution_count": null,
   "metadata": {},
   "outputs": [],
   "source": [
    "pc = PCA(n_components=1)\n",
    "new_matrix = pc.fit_transform(matrix)\n",
    "print(\"Original matrix shape:\", matrix.shape)\n",
    "print(\"New matrix shape after PCA:\", new_matrix.shape)"
   ]
  },
  {
   "cell_type": "code",
   "execution_count": null,
   "metadata": {},
   "outputs": [],
   "source": [
    "# Paso 2: Graficar la varianza explicada por cada componente principal\n",
    "plt.figure(figsize=(10, 5))\n",
    "plt.bar(range(1, len(pc.explained_variance_ratio_) + 1), pc.explained_variance_ratio_, color='blue')\n",
    "print(pc.explained_variance_ratio_)\n",
    "plt.title('Explained Variance Ratio by Principal Component')\n",
    "plt.xlabel('Principal Component')\n",
    "plt.ylabel('Explained Variance Ratio')\n",
    "plt.grid(True)\n",
    "plt.show()"
   ]
  },
  {
   "cell_type": "code",
   "execution_count": 3,
   "metadata": {},
   "outputs": [],
   "source": [
    "import torch\n",
    "import torch.nn as nn\n",
    "import torch.nn.functional as F\n",
    "\n",
    "class ReduceMatrixModel(nn.Module):\n",
    "    def __init__(self):\n",
    "        super(ReduceMatrixModel, self).__init__()\n",
    "        \n",
    "        # First Convolutional Layer: Reduce size from (2537, 2172)\n",
    "        self.conv1 = nn.Conv2d(in_channels=1, out_channels=32, kernel_size=3, stride=2, padding=1)\n",
    "        self.conv2 = nn.Conv2d(32, 64, kernel_size=3, stride=2, padding=1)\n",
    "        self.conv3 = nn.Conv2d(64, 128, kernel_size=3, stride=2, padding=1)\n",
    "        self.conv4 = nn.Conv2d(128, 256, kernel_size=3, stride=2, padding=1)\n",
    "        \n",
    "        # Adjust based on the final conv layer output size (256 * 159 * 136 = 5535744)\n",
    "        self.fc1 = nn.Linear(256 * 159 * 136, 512)  \n",
    "        \n",
    "    def forward(self, x):\n",
    "        print(x.shape) # -> (batch_size, 1, 2537, 2172)\n",
    "        x = F.relu(self.conv1(x))  # -> (batch_size, 32, 1269, 1086)\n",
    "        print(x.shape)\n",
    "        x = F.relu(self.conv2(x))  # -> (batch_size, 64, 635, 543)\n",
    "        print(x.shape)\n",
    "        x = F.relu(self.conv3(x))  # -> (batch_size, 128, 318, 272)\n",
    "        print(x.shape)\n",
    "        x = F.relu(self.conv4(x))  # -> (batch_size, 256, 159, 136)\n",
    "        print(x.shape)\n",
    "\n",
    "        x = x.view(x.size(0), -1)  # -> (batch_size, 256 * 159 * 136 = 5535744)\n",
    "        print(x.shape)\n",
    "\n",
    "        # Fully connected layers\n",
    "        x = F.relu(self.fc1(x))  # -> (batch_size, 512)\n",
    "        return x\n",
    "\n",
    "# Example of model usage\n",
    "model = ReduceMatrixModel()\n"
   ]
  },
  {
   "cell_type": "code",
   "execution_count": null,
   "metadata": {},
   "outputs": [],
   "source": [
    "matrix = np.random.rand(2537, 2172)\n",
    "input_matrix = torch.tensor([[matrix]]).float()\n",
    "output = model(input_matrix).squeeze()\n",
    "print(output.shape)  # Should print torch.Size([1, 512])"
   ]
  },
  {
   "cell_type": "code",
   "execution_count": null,
   "metadata": {},
   "outputs": [],
   "source": [
    "print(output)"
   ]
  }
 ],
 "metadata": {
  "kernelspec": {
   "display_name": "Python 3 (ipykernel)",
   "language": "python",
   "name": "python3"
  },
  "language_info": {
   "codemirror_mode": {
    "name": "ipython",
    "version": 3
   },
   "file_extension": ".py",
   "mimetype": "text/x-python",
   "name": "python",
   "nbconvert_exporter": "python",
   "pygments_lexer": "ipython3",
   "version": "3.11.9"
  }
 },
 "nbformat": 4,
 "nbformat_minor": 2
}
