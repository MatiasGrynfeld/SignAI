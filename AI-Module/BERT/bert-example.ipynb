{
 "cells": [
  {
   "cell_type": "markdown",
   "metadata": {},
   "source": [
    "<h1 style=\"font-size:200%; font-family:cursive; color:white;\">1. Import Required Libraries & Dataset</h1>"
   ]
  },
  {
   "cell_type": "code",
   "execution_count": 1,
   "metadata": {},
   "outputs": [],
   "source": [
    "import numpy as np\n",
    "import pandas as pd\n",
    "import os\n",
    "import torch\n",
    "import torch.nn as nn\n",
    "from sklearn.metrics import classification_report\n",
    "from sklearn.model_selection import train_test_split\n",
    "from transformers import AutoModel, BertTokenizer\n",
    "\n",
    "#specify GPU\n",
    "device = torch.device(\"cuda\")"
   ]
  },
  {
   "cell_type": "markdown",
   "metadata": {},
   "source": [
    "### Check if Pytorch is using GPU"
   ]
  },
  {
   "cell_type": "code",
   "execution_count": null,
   "metadata": {},
   "outputs": [],
   "source": [
    "torch.cuda.is_available(), torch.cuda.device_count(), torch.cuda.current_device(), torch.cuda.device(0), torch.cuda.get_device_name(0), device"
   ]
  },
  {
   "cell_type": "code",
   "execution_count": 3,
   "metadata": {},
   "outputs": [],
   "source": [
    "df_videos = pd.read_csv(\"/app/AI-Module/Resources/Datasets/how2sign.csv\", usecols=[\"translation\", \"id\"])\n",
    "#df_videos = pd.read_csv(\"C:/Users/48519558/Desktop/SignAI-ML/AI-Module/Resources/Datasets/how2sign.csv\", usecols=[\"translation\", \"id\"])\n",
    "#df_videos = pd.read_csv(\"D:/SignAI-ML/AI-Module/Resources/Datasets/how2sign.csv\", usecols=[\"translation\", \"id\"])"
   ]
  },
  {
   "cell_type": "code",
   "execution_count": 4,
   "metadata": {},
   "outputs": [],
   "source": [
    "# df_videos = pd.read_csv(\"D:/Sprinfil/Dataset/how2sign.csv\")\n",
    "# df_videos = df_videos.sort_values([\"id\"]).reset_index().drop([\"index\"], axis=1)\n",
    "# df_videos.head()\n",
    "# import ast\n",
    "# points = df_videos[\"points\"]\n",
    "# for index, point in enumerate(points):\n",
    "#     print(index)\n",
    "#     points.at[index] = ast.literal_eval(point)\n",
    "# type(points.iloc[0])\n",
    "# df_videos[\"points\"] = points\n",
    "# df_videos.head()\n",
    "# for index, item in enumerate(points):\n",
    "#     item = np.array(item)\n",
    "#     print(index, item.shape)\n",
    "#     item_with_index = np.array((item, index), dtype=object)\n",
    "#     points.iloc[index]=item\n",
    "#     np.save(f\"{index}.npy\", item_with_index)\n",
    "# df_videos[\"points\"] = points\n",
    "# df_videos.head()"
   ]
  },
  {
   "cell_type": "code",
   "execution_count": null,
   "metadata": {},
   "outputs": [],
   "source": [
    "puntos_folder = \"/app/AI-Module/Resources/Datasets/Points\"\n",
    "#puntos_folder = \"C:/Users/48519558/Desktop/SignAI-ML/AI-Module/Resources/Datasets/Points\"\n",
    "#puntos_folder = \"D:/SignAI-ML/AI-Module/Resources/Datasets/Points\"\n",
    "files = [puntos_folder + \"/\" + file for file in os.listdir(puntos_folder)]\n",
    "len(files)"
   ]
  },
  {
   "cell_type": "code",
   "execution_count": 6,
   "metadata": {},
   "outputs": [],
   "source": [
    "def load_points(files):\n",
    "    for file in files:\n",
    "        item_with_index = np.load(file, allow_pickle=True)\n",
    "        item = item_with_index[0].astype(np.float16)\n",
    "        index = item_with_index[1]\n",
    "        yield item, index\n",
    "\n",
    "puntos_list = []\n",
    "ids_list = []\n",
    "\n",
    "for item, index in load_points(files):\n",
    "    puntos_list.append(item)\n",
    "    ids_list.append(index)\n",
    "\n",
    "df_puntos = pd.DataFrame({\n",
    "    'points': puntos_list,\n",
    "    'id': ids_list\n",
    "})\n",
    "df_puntos = df_puntos.sort_values([\"id\"]).reset_index(drop=True)"
   ]
  },
  {
   "cell_type": "code",
   "execution_count": 7,
   "metadata": {},
   "outputs": [],
   "source": [
    "df_videos = df_videos.merge(df_puntos, on=\"id\", how=\"inner\")"
   ]
  },
  {
   "cell_type": "markdown",
   "metadata": {},
   "source": [
    "***"
   ]
  },
  {
   "cell_type": "code",
   "execution_count": null,
   "metadata": {},
   "outputs": [],
   "source": [
    "max_len = df_videos['points'].apply(lambda x: len(x)).max()\n",
    "print(max_len)\n",
    "df_videos.head()"
   ]
  },
  {
   "cell_type": "code",
   "execution_count": 9,
   "metadata": {},
   "outputs": [],
   "source": [
    "def add_padding(max_frames, point_series: pd.Series):\n",
    "    for i in range(len(point_series)):\n",
    "        current_length = len(point_series[i])\n",
    "        if current_length < max_frames:\n",
    "            padding = np.full(\n",
    "                (max_frames - current_length, 2172), \n",
    "                -1,\n",
    "                dtype=np.float16\n",
    "            )\n",
    "            padding[:, 3::4] = 0\n",
    "            point_series[i] = np.concatenate((point_series[i], padding), axis=0)\n",
    "    return point_series"
   ]
  },
  {
   "cell_type": "code",
   "execution_count": null,
   "metadata": {},
   "outputs": [],
   "source": [
    "df_videos['points'] = add_padding(max_len, df_videos['points'])"
   ]
  },
  {
   "cell_type": "code",
   "execution_count": 11,
   "metadata": {},
   "outputs": [],
   "source": [
    "from sklearn.model_selection import train_test_split\n",
    "X_df = df_videos['points'].to_frame()\n",
    "y_df = df_videos['translation'].to_frame()\n",
    "seed = 31991\n",
    "X_train, X_test, y_train, y_test = train_test_split(X_df, y_df, test_size=(100/500), random_state=seed)\n",
    "X_train, X_val, y_train, y_val = train_test_split(X_train, y_train, test_size=(100/400), random_state=seed)"
   ]
  },
  {
   "cell_type": "code",
   "execution_count": null,
   "metadata": {},
   "outputs": [],
   "source": [
    "X_train.head(), y_train.head(), X_val.head(), y_val.head(), X_test.head(), y_test.head()"
   ]
  },
  {
   "cell_type": "code",
   "execution_count": null,
   "metadata": {},
   "outputs": [],
   "source": [
    "X_train.shape, y_train.shape, X_val.shape, y_val.shape, X_test.shape, y_test.shape"
   ]
  },
  {
   "cell_type": "code",
   "execution_count": null,
   "metadata": {},
   "outputs": [],
   "source": [
    "import gc\n",
    "globals().pop(\"df_videos\", None)\n",
    "globals().pop(\"puntos_list\", None)\n",
    "globals().pop(\"ids_list\", None)\n",
    "globals().pop(\"df_puntos\", None)\n",
    "globals().pop(\"X_df\", None)\n",
    "globals().pop(\"item\", None)\n",
    "globals().pop(\"y_df\", None)\n",
    "gc.collect()\n"
   ]
  },
  {
   "cell_type": "markdown",
   "metadata": {},
   "source": [
    "<h1 style=\"font-size:200%; font-family:cursive; color:white;\">3. Import Bert - base- uncased</h1>"
   ]
  },
  {
   "cell_type": "code",
   "execution_count": null,
   "metadata": {
    "execution": {
     "iopub.execute_input": "2021-05-20T11:49:24.18724Z",
     "iopub.status.busy": "2021-05-20T11:49:24.186902Z",
     "iopub.status.idle": "2021-05-20T11:50:15.137513Z",
     "shell.execute_reply": "2021-05-20T11:50:15.135994Z",
     "shell.execute_reply.started": "2021-05-20T11:49:24.187212Z"
    }
   },
   "outputs": [],
   "source": [
    "# import BERT-base pretrained model\n",
    "bert = AutoModel.from_pretrained('bert-base-uncased')\n",
    "tokenizer = BertTokenizer.from_pretrained('bert-base-uncased')"
   ]
  },
  {
   "cell_type": "code",
   "execution_count": 16,
   "metadata": {},
   "outputs": [],
   "source": [
    "# tokenize and encode sequences in the training set\n",
    "tokens_label_train = tokenizer.batch_encode_plus(\n",
    "    y_train['translation'].tolist(),\n",
    "    padding=True,\n",
    "    truncation=True,\n",
    "    return_tensors=\"pt\"\n",
    ")\n",
    "\n",
    "# tokenize and encode sequences in the validation set\n",
    "tokens_label_val = tokenizer.batch_encode_plus(\n",
    "    y_val['translation'].tolist(),\n",
    "    padding = True,\n",
    "    truncation = True,\n",
    "    return_tensors=\"pt\"\n",
    ")\n",
    "\n",
    "# tokenize and encode sequences in the test set\n",
    "tokens_label_test = tokenizer.batch_encode_plus(\n",
    "    y_test['translation'].tolist(),\n",
    "    padding = True,\n",
    "    truncation = True,\n",
    "    return_tensors=\"pt\"\n",
    ")"
   ]
  },
  {
   "cell_type": "markdown",
   "metadata": {},
   "source": [
    "<u><h2 style=\"font-size:170%; font-family:cursive;\">What is the maximum sequence length of the input?</h2></u>\n",
    "\n",
    "<p style=\"font-size:150%; font-family:verdana;\">The maximum sequence length of the input = 512</p>"
   ]
  },
  {
   "cell_type": "markdown",
   "metadata": {},
   "source": [
    "<h1 style=\"font-size:200%; font-family:cursive; color:white;\">5. List to Tensors</h1>"
   ]
  },
  {
   "cell_type": "code",
   "execution_count": 23,
   "metadata": {},
   "outputs": [],
   "source": [
    "def create_attention_mask_from_points(tensor: torch.Tensor) -> torch.Tensor:\n",
    "    # Comprobar que el tensor tenga el tamaño esperado\n",
    "    assert tensor.ndim == 3 and tensor.size(2) == 2172, \"El tensor debe ser de tamaño [300, 2537, 2172]\"\n",
    "    \n",
    "    # Crear una máscara inicial llena de unos\n",
    "    mask = torch.ones(tensor.size(), dtype=torch.int8, device=tensor.device)\n",
    "\n",
    "    # Reestructurar el tensor para facilitar la verificación de condiciones\n",
    "    points = tensor.view(tensor.size(0), tensor.size(1), -1, 4)  # Cambiar la forma para agrupar por 4\n",
    "    conditions = (points[:, :, :, 0] == -1) & (points[:, :, :, 1] == -1) & (points[:, :, :, 2] == -1) & (points[:, :, :, 3] == 0)\n",
    "\n",
    "    # Crear un tensor de ceros de la misma forma que el tensor original\n",
    "    mask_zeros = torch.zeros_like(points, dtype=torch.int8)\n",
    "\n",
    "    # Usar la máscara de condiciones para reemplazar en la máscara original\n",
    "    mask[conditions] = mask_zeros[conditions]\n",
    "\n",
    "    return mask.view(tensor.size(0), tensor.size(1), -1)  # Volver a dar forma a la máscara\n"
   ]
  },
  {
   "cell_type": "code",
   "execution_count": 17,
   "metadata": {
    "execution": {
     "iopub.execute_input": "2021-05-20T12:16:52.707444Z",
     "iopub.status.busy": "2021-05-20T12:16:52.707085Z",
     "iopub.status.idle": "2021-05-20T12:16:52.744645Z",
     "shell.execute_reply": "2021-05-20T12:16:52.743449Z",
     "shell.execute_reply.started": "2021-05-20T12:16:52.707415Z"
    }
   },
   "outputs": [],
   "source": [
    "# convert lists to tensors\n"
   ]
  },
  {
   "cell_type": "code",
   "execution_count": 17,
   "metadata": {},
   "outputs": [],
   "source": [
    "#gc.collect()\n",
    "train_np = np.array(X_train['points'].tolist(), dtype=np.float16)\n",
    "train_seq = torch.tensor(train_np, dtype=torch.float16)"
   ]
  },
  {
   "cell_type": "code",
   "execution_count": 24,
   "metadata": {},
   "outputs": [],
   "source": [
    "#gc.collect()\n",
    "train_mask = create_attention_mask_from_points(train_seq)\n",
    "print(train_mask.shape)"
   ]
  },
  {
   "cell_type": "code",
   "execution_count": null,
   "metadata": {},
   "outputs": [],
   "source": [
    "train_y = tokens_label_train['input_ids']"
   ]
  },
  {
   "cell_type": "code",
   "execution_count": null,
   "metadata": {},
   "outputs": [],
   "source": [
    "globals().pop(\"X_train\", None)\n",
    "globals().pop(\"train_np\", None)\n",
    "globals().pop(\"y_train\", None)\n",
    "globals().pop(\"tokens_label_train\", None)\n",
    "gc.collect()"
   ]
  },
  {
   "cell_type": "code",
   "execution_count": 23,
   "metadata": {},
   "outputs": [],
   "source": [
    "gc.collect()\n",
    "val_np = np.array(X_val['points'].tolist(), dtype=np.float16)\n",
    "val_seq = torch.tensor(val_np, dtype=torch.float16)"
   ]
  },
  {
   "cell_type": "code",
   "execution_count": 24,
   "metadata": {},
   "outputs": [],
   "source": [
    "gc.collect()\n",
    "val_mask = create_attention_mask_from_points(val_seq)"
   ]
  },
  {
   "cell_type": "code",
   "execution_count": 25,
   "metadata": {},
   "outputs": [],
   "source": [
    "val_y = tokens_label_val['input_ids']"
   ]
  },
  {
   "cell_type": "code",
   "execution_count": null,
   "metadata": {},
   "outputs": [],
   "source": [
    "globals().pop(\"X_val\", None)\n",
    "globals().pop(\"val_np\", None)\n",
    "globals().pop(\"y_val\", None)\n",
    "globals().pop(\"tokens_label_val\", None)\n",
    "gc.collect()"
   ]
  },
  {
   "cell_type": "code",
   "execution_count": 27,
   "metadata": {},
   "outputs": [],
   "source": [
    "gc.collect()\n",
    "test_np = np.array(X_test['points'].tolist(), dtype=np.float16)\n",
    "test_seq = torch.tensor(test_np, dtype=torch.float16)"
   ]
  },
  {
   "cell_type": "code",
   "execution_count": 28,
   "metadata": {},
   "outputs": [],
   "source": [
    "gc.collect()\n",
    "test_mask = create_attention_mask_from_points(test_seq)"
   ]
  },
  {
   "cell_type": "code",
   "execution_count": 29,
   "metadata": {},
   "outputs": [],
   "source": [
    "test_y = tokens_label_test['input_ids']"
   ]
  },
  {
   "cell_type": "code",
   "execution_count": null,
   "metadata": {},
   "outputs": [],
   "source": [
    "globals().pop(\"X_test\", None)\n",
    "globals().pop(\"test_np\", None)\n",
    "globals().pop(\"y_test\", None)\n",
    "globals().pop(\"tokens_label_test\", None)\n",
    "gc.collect()"
   ]
  },
  {
   "cell_type": "markdown",
   "metadata": {},
   "source": [
    "<h1 style=\"font-size:200%; font-family:cursive; color:white;\">6. Data Loader</h1>"
   ]
  },
  {
   "cell_type": "code",
   "execution_count": null,
   "metadata": {
    "execution": {
     "iopub.execute_input": "2021-05-20T12:16:54.073069Z",
     "iopub.status.busy": "2021-05-20T12:16:54.072724Z",
     "iopub.status.idle": "2021-05-20T12:16:54.079387Z",
     "shell.execute_reply": "2021-05-20T12:16:54.078289Z",
     "shell.execute_reply.started": "2021-05-20T12:16:54.073019Z"
    }
   },
   "outputs": [],
   "source": [
    "\n",
    "from torch.utils.data import TensorDataset, DataLoader, RandomSampler, SequentialSampler\n",
    "\n",
    "#define a batch size\n",
    "batch_size = 32\n",
    "\n",
    "# wrap tensors\n",
    "train_data = TensorDataset(train_seq, train_mask, train_y)\n",
    "globals().pop(\"train_seq\", None)\n",
    "globals().pop(\"train_mask\", None)\n",
    "globals().pop(\"train_y\", None)\n",
    "gc.collect()\n",
    "# sampler for sampling the data during training\n",
    "train_sampler = RandomSampler(train_data)\n",
    "\n",
    "# dataLoader for train set\n",
    "train_dataloader = DataLoader(train_data, sampler=train_sampler, batch_size=batch_size)\n",
    "globals().pop(\"train_data\", None)\n",
    "globals().pop(\"train_sampler\", None)\n",
    "gc.collect()\n",
    "\n",
    "# wrap tensors\n",
    "val_data = TensorDataset(val_seq, val_mask, val_y)\n",
    "globals().pop(\"val_seq\", None)\n",
    "globals().pop(\"val_mask\", None)\n",
    "globals().pop(\"val_y\", None)\n",
    "gc.collect()\n",
    "\n",
    "# sampler for sampling the data during training\n",
    "val_sampler = SequentialSampler(val_data)\n",
    "\n",
    "# dataLoader for validation set\n",
    "val_dataloader = DataLoader(val_data, sampler = val_sampler, batch_size=batch_size)\n",
    "globals().pop(\"val_data\", None)\n",
    "globals().pop(\"val_sampler\", None)\n",
    "gc.collect()"
   ]
  },
  {
   "cell_type": "markdown",
   "metadata": {},
   "source": [
    "<h1 style=\"font-size:200%; font-family:cursive; color:white;\">7. Model Architecture</h1>"
   ]
  },
  {
   "cell_type": "code",
   "execution_count": null,
   "metadata": {},
   "outputs": [],
   "source": [
    "vocab_size = tokenizer.vocab_size\n",
    "class BERT_Arch(nn.Module):\n",
    "\n",
    "    def __init__(self, bert, vocab_size):\n",
    "        super(BERT_Arch, self).__init__()\n",
    "        \n",
    "        self.bert = bert \n",
    "        \n",
    "        # Dropout layer\n",
    "        self.dropout = nn.Dropout(0.1)\n",
    "        \n",
    "        # ReLU activation function\n",
    "        self.relu = nn.ReLU()\n",
    "\n",
    "        # Dense layer 1\n",
    "        self.fc1 = nn.Linear(768, 512)\n",
    "        \n",
    "        # Dense layer 2 (Output layer)\n",
    "        self.fc2 = nn.Linear(512, vocab_size)  # Use tokenizer's vocab size\n",
    "\n",
    "        # Softmax activation function\n",
    "        self.softmax = nn.LogSoftmax(dim=-1)\n",
    "\n",
    "    def forward(self, seq_input, mask):\n",
    "        outputs = self.bert(seq_input, attention_mask=mask, return_dict=False)\n",
    "        \n",
    "        # Use the last hidden state for each token (outputs[0])\n",
    "        x = self.fc1(outputs[0])  # (batch_size, sequence_length, 512)\n",
    "\n",
    "        x = self.relu(x)\n",
    "        x = self.dropout(x)\n",
    "\n",
    "        x = self.fc2(x)  # (batch_size, sequence_length, vocab_size)\n",
    "        \n",
    "        # Apply softmax activation (for each token in the sequence)\n",
    "        x = self.softmax(x)\n",
    "\n",
    "        return x\n",
    "# pass the pre-trained BERT to our define architecture\n",
    "model = BERT_Arch(bert, vocab_size)\n",
    "\n",
    "# push the model to GPU\n",
    "model = model.to(device)\n",
    "# optimizer from hugging face transformers\n",
    "from transformers import AdamW\n",
    "\n",
    "# define the optimizer\n",
    "optimizer = AdamW(model.parameters(),lr = 1e-5) \n",
    "# Define the loss function\n",
    "cross_entropy = nn.CrossEntropyLoss()\n",
    "\n",
    "# number of training epochs\n",
    "epochs = 10"
   ]
  },
  {
   "cell_type": "markdown",
   "metadata": {},
   "source": [
    "<h1 style=\"font-size:200%; font-family:cursive; color:white;\">8. Fine - Tune</h1>"
   ]
  },
  {
   "cell_type": "code",
   "execution_count": 33,
   "metadata": {},
   "outputs": [],
   "source": [
    "from nltk.translate.bleu_score import sentence_bleu, SmoothingFunction\n",
    "\n",
    "# Define the BLEU score function for a single prediction and reference\n",
    "def calculate_bleu(preds, references):\n",
    "    smoothie = SmoothingFunction().method4  # Smoothing method to avoid zero scores for short sentences\n",
    "    score = sentence_bleu([references], preds, smoothing_function=smoothie)\n",
    "    return score\n",
    "\n",
    "# Function to convert token ids back to words (predictions and labels)\n",
    "def decode_predictions(predictions, tokenizer):\n",
    "    # Convert token IDs to tokens (words) using the tokenizer's decode method\n",
    "    return [tokenizer.decode(pred, skip_special_tokens=True) for pred in predictions]"
   ]
  },
  {
   "cell_type": "code",
   "execution_count": 34,
   "metadata": {},
   "outputs": [],
   "source": [
    "def train(model: nn.Module, train_dataloader: DataLoader, optimizer: torch.optim.Optimizer, criterion: nn.CrossEntropyLoss, tokenizer: BertTokenizer) -> tuple[float, float]:\n",
    "    model.train()\n",
    "    total_loss = 0\n",
    "    total_bleu = 0\n",
    "    num_batches = len(train_dataloader)\n",
    "\n",
    "    for batch_idx, (seq_input, mask, target) in enumerate(train_dataloader):\n",
    "        seq_input, mask, target = seq_input.to(device), mask.to(device), target.to(device)\n",
    "\n",
    "        # Limpiar gradientes\n",
    "        optimizer.zero_grad()\n",
    "\n",
    "        # Forward pass\n",
    "        outputs = model(seq_input, mask)\n",
    "        \n",
    "        # Loss\n",
    "        loss = criterion(outputs.view(-1, vocab_size), target.view(-1))\n",
    "        total_loss += loss.item()\n",
    "\n",
    "        # Backward pass y optimización\n",
    "        loss.backward()\n",
    "        optimizer.step()\n",
    "\n",
    "        # Decodificar predicciones y etiquetas para calcular el BLEU score\n",
    "        decoded_preds = decode_predictions(outputs.argmax(dim=-1), tokenizer)\n",
    "        decoded_targets = decode_predictions(target, tokenizer)\n",
    "\n",
    "        # Calcular BLEU score para este batch\n",
    "        batch_bleu = calculate_bleu(decoded_preds, decoded_targets)\n",
    "        total_bleu += batch_bleu\n",
    "\n",
    "        # Mostrar progreso del batch\n",
    "        print(f\"Batch {batch_idx + 1}/{num_batches} - Loss: {loss.item():.4f} - BLEU: {batch_bleu:.4f}\")\n",
    "\n",
    "    # Promedio de loss y BLEU score para toda la época\n",
    "    avg_loss = total_loss / num_batches\n",
    "    avg_bleu = total_bleu / num_batches\n",
    "    return avg_loss, avg_bleu"
   ]
  },
  {
   "cell_type": "code",
   "execution_count": 35,
   "metadata": {},
   "outputs": [],
   "source": [
    "def evaluate(model: nn.Module, val_dataloader: DataLoader, criterion: nn.CrossEntropyLoss, tokenizer: BertTokenizer) -> tuple[float, float]:\n",
    "    model.eval()\n",
    "    total_loss = 0\n",
    "    total_bleu = 0\n",
    "    num_batches = len(val_dataloader)\n",
    "\n",
    "    with torch.no_grad():\n",
    "        for batch_idx, (seq_input, mask, target) in enumerate(val_dataloader):\n",
    "            seq_input, mask, target = seq_input.to(device), mask.to(device), target.to(device)\n",
    "\n",
    "            # Forward pass\n",
    "            outputs = model(seq_input, mask)\n",
    "\n",
    "            # Loss\n",
    "            loss = criterion(outputs.view(-1, vocab_size), target.view(-1))\n",
    "            total_loss += loss.item()\n",
    "\n",
    "            # Decodificar predicciones y etiquetas para calcular el BLEU score\n",
    "            decoded_preds = decode_predictions(outputs.argmax(dim=-1), tokenizer)\n",
    "            decoded_targets = decode_predictions(target, tokenizer)\n",
    "\n",
    "            # Calcular BLEU score para este batch\n",
    "            batch_bleu = calculate_bleu(decoded_preds, decoded_targets)\n",
    "            total_bleu += batch_bleu\n",
    "\n",
    "            # Mostrar progreso del batch\n",
    "            print(f\"Batch {batch_idx + 1}/{num_batches} - Loss: {loss.item():.4f} - BLEU: {batch_bleu:.4f}\")\n",
    "\n",
    "    # Promedio de loss y BLEU score para toda la época\n",
    "    avg_loss = total_loss / num_batches\n",
    "    avg_bleu = total_bleu / num_batches\n",
    "    return avg_loss, avg_bleu"
   ]
  },
  {
   "cell_type": "code",
   "execution_count": null,
   "metadata": {},
   "outputs": [],
   "source": [
    "# Inicialización de variables para seguimiento del mejor modelo\n",
    "best_valid_loss = float('inf')\n",
    "best_bleu_score = 0\n",
    "\n",
    "# Listas para almacenar loss y BLEU de cada epoch\n",
    "train_losses = []\n",
    "valid_losses = []\n",
    "train_bleu_scores = []\n",
    "valid_bleu_scores = []\n",
    "\n",
    "# Ciclo de entrenamiento y evaluación por cada epoch\n",
    "for epoch in range(epochs):\n",
    "    print(f\"\\nEpoch {epoch + 1}/{epochs}\")\n",
    "\n",
    "    # Entrenar el modelo\n",
    "    train_loss, train_bleu = train(model, train_dataloader, optimizer, cross_entropy, tokenizer)\n",
    "    \n",
    "    # Evaluar el modelo\n",
    "    valid_loss, valid_bleu = evaluate(model, val_dataloader, cross_entropy, tokenizer)\n",
    "\n",
    "    # Guardar el mejor modelo basado en la validación de loss\n",
    "    if valid_loss < best_valid_loss:\n",
    "        best_valid_loss = valid_loss\n",
    "        torch.save(model.state_dict(), 'best_model.pt')\n",
    "\n",
    "    # Guardar loss y BLEU para entrenamiento y validación\n",
    "    train_losses.append(train_loss)\n",
    "    valid_losses.append(valid_loss)\n",
    "    train_bleu_scores.append(train_bleu)\n",
    "    valid_bleu_scores.append(valid_bleu)\n",
    "\n",
    "    # Mostrar estadísticas de entrenamiento y validación\n",
    "    print(f\"Training Loss: {train_loss:.4f} | Training BLEU: {train_bleu:.4f}\")\n",
    "    print(f\"Validation Loss: {valid_loss:.4f} | Validation BLEU: {valid_bleu:.4f}\")\n"
   ]
  },
  {
   "cell_type": "code",
   "execution_count": null,
   "metadata": {
    "execution": {
     "iopub.execute_input": "2021-05-20T12:24:47.832686Z",
     "iopub.status.busy": "2021-05-20T12:24:47.832372Z",
     "iopub.status.idle": "2021-05-20T12:24:48.147778Z",
     "shell.execute_reply": "2021-05-20T12:24:48.147016Z",
     "shell.execute_reply.started": "2021-05-20T12:24:47.832657Z"
    }
   },
   "outputs": [],
   "source": [
    "#load weights of best model\n",
    "path = 'best_model.pt'\n",
    "model.load_state_dict(torch.load(path))"
   ]
  },
  {
   "cell_type": "markdown",
   "metadata": {},
   "source": [
    "<h1 style=\"font-size:200%; font-family:cursive; color:white;\">9. Make Predictions</h1>"
   ]
  },
  {
   "cell_type": "code",
   "execution_count": null,
   "metadata": {
    "execution": {
     "iopub.execute_input": "2021-05-20T12:25:07.436008Z",
     "iopub.status.busy": "2021-05-20T12:25:07.435685Z",
     "iopub.status.idle": "2021-05-20T12:25:08.019816Z",
     "shell.execute_reply": "2021-05-20T12:25:08.018976Z",
     "shell.execute_reply.started": "2021-05-20T12:25:07.435979Z"
    }
   },
   "outputs": [],
   "source": [
    "# get predictions for test data\n",
    "with torch.no_grad():\n",
    "    preds = model(test_seq.to(device), test_mask.to(device))\n",
    "    preds = preds.detach().cpu().numpy()"
   ]
  },
  {
   "cell_type": "code",
   "execution_count": null,
   "metadata": {
    "execution": {
     "iopub.execute_input": "2021-05-20T12:25:23.838719Z",
     "iopub.status.busy": "2021-05-20T12:25:23.838389Z",
     "iopub.status.idle": "2021-05-20T12:25:23.852193Z",
     "shell.execute_reply": "2021-05-20T12:25:23.850795Z",
     "shell.execute_reply.started": "2021-05-20T12:25:23.838691Z"
    }
   },
   "outputs": [],
   "source": [
    "# model's performance\n",
    "preds = np.argmax(preds, axis = 1)\n",
    "print(classification_report(test_y, preds))"
   ]
  }
 ],
 "metadata": {
  "kaggle": {
   "accelerator": "gpu",
   "dataSources": [
    {
     "datasetId": 863500,
     "sourceId": 1471804,
     "sourceType": "datasetVersion"
    }
   ],
   "dockerImageVersionId": 30096,
   "isGpuEnabled": true,
   "isInternetEnabled": false,
   "language": "python",
   "sourceType": "notebook"
  },
  "kernelspec": {
   "display_name": "Python 3 (ipykernel)",
   "language": "python",
   "name": "python3"
  },
  "language_info": {
   "codemirror_mode": {
    "name": "ipython",
    "version": 3
   },
   "file_extension": ".py",
   "mimetype": "text/x-python",
   "name": "python",
   "nbconvert_exporter": "python",
   "pygments_lexer": "ipython3",
   "version": "3.11.9"
  }
 },
 "nbformat": 4,
 "nbformat_minor": 4
}
