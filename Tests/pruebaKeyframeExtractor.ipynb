{
 "cells": [
  {
   "cell_type": "code",
   "execution_count": 2,
   "metadata": {},
   "outputs": [
    {
     "ename": "ModuleNotFoundError",
     "evalue": "No module named 'key_frames_extractor_module'",
     "output_type": "error",
     "traceback": [
      "\u001b[1;31m---------------------------------------------------------------------------\u001b[0m",
      "\u001b[1;31mModuleNotFoundError\u001b[0m                       Traceback (most recent call last)",
      "\u001b[1;32mc:\\Users\\48519558\\Desktop\\SignAI-ML\\Tests\\pruebaKeyframeExtractor.ipynb Cell 1\u001b[0m line \u001b[0;36m2\n\u001b[0;32m      <a href='vscode-notebook-cell:/c%3A/Users/48519558/Desktop/SignAI-ML/Tests/pruebaKeyframeExtractor.ipynb#W2sZmlsZQ%3D%3D?line=0'>1</a>\u001b[0m \u001b[39mimport\u001b[39;00m \u001b[39mcv2\u001b[39;00m\n\u001b[1;32m----> <a href='vscode-notebook-cell:/c%3A/Users/48519558/Desktop/SignAI-ML/Tests/pruebaKeyframeExtractor.ipynb#W2sZmlsZQ%3D%3D?line=1'>2</a>\u001b[0m \u001b[39mfrom\u001b[39;00m \u001b[39mkey_frames_extractor_module\u001b[39;00m\u001b[39m.\u001b[39;00m\u001b[39mKeyFrameExtractorClass\u001b[39;00m \u001b[39mimport\u001b[39;00m KeyFrameExtractor\n",
      "\u001b[1;31mModuleNotFoundError\u001b[0m: No module named 'key_frames_extractor_module'"
     ]
    }
   ],
   "source": [
    "import cv2\n",
    "from key_frames_extractor_module.KeyFrameExtractorClass import KeyFrameExtractor"
   ]
  },
  {
   "cell_type": "code",
   "execution_count": null,
   "metadata": {},
   "outputs": [],
   "source": [
    "video = cv2.VideoCapture('C:\\\\Users\\\\48519558\\\\Desktop\\\\SignAI-ML\\\\recursos\\\\videoprueba1.mp4')\n",
    "KFE = KeyFrameExtractor()\n",
    "\n",
    "keyFrames = KFE.extractKeyFrames(video)\n",
    "for frame in keyFrames:\n",
    "    cv2.imshow('frame', frame)\n",
    "    cv2.waitKey(0)\n",
    "    cv2.destroyAllWindows()"
   ]
  }
 ],
 "metadata": {
  "kernelspec": {
   "display_name": ".venv",
   "language": "python",
   "name": "python3"
  },
  "language_info": {
   "codemirror_mode": {
    "name": "ipython",
    "version": 3
   },
   "file_extension": ".py",
   "mimetype": "text/x-python",
   "name": "python",
   "nbconvert_exporter": "python",
   "pygments_lexer": "ipython3",
   "version": "3.10.0"
  },
  "orig_nbformat": 4
 },
 "nbformat": 4,
 "nbformat_minor": 2
}
