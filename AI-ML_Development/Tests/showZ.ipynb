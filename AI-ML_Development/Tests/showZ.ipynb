{
 "cells": [
  {
   "cell_type": "code",
   "execution_count": 21,
   "metadata": {},
   "outputs": [],
   "source": [
    "import cv2\n",
    "from forAllTest import init\n",
    "import mediapipe as mp\n",
    "\n",
    "init()\n",
    "from FrameExtractorClass import FrameExtractor\n",
    "from pointsDetectorClass import pointsDetector\n",
    "\n",
    "video = cv2.VideoCapture('C:\\\\Users\\\\48113164\\\\Documents\\\\GitHub\\\\SignAI-IA.dev\\\\AI-ML_Development\\\\recursos\\\\videoprueba4.mp4')\n",
    "\n",
    "FE = FrameExtractor()\n",
    "Frames = FE.extractKeyFrames(video)\n",
    "print(len(Frames))\n",
    "for frame in Frames:\n",
    "    cv2.imshow('frame', frame)\n",
    "    cv2.waitKey(0)\n",
    "    cv2.destroyAllWindows()\n",
    "\n"
   ]
  },
  {
   "cell_type": "code",
   "execution_count": 22,
   "metadata": {},
   "outputs": [
    {
     "ename": "TypeError",
     "evalue": "'NormalizedLandmarkList' object is not iterable",
     "output_type": "error",
     "traceback": [
      "\u001b[1;31m---------------------------------------------------------------------------\u001b[0m",
      "\u001b[1;31mTypeError\u001b[0m                                 Traceback (most recent call last)",
      "Cell \u001b[1;32mIn[22], line 4\u001b[0m\n\u001b[0;32m      2\u001b[0m frame \u001b[38;5;241m=\u001b[39m cv2\u001b[38;5;241m.\u001b[39mimread(image_path)\n\u001b[0;32m      3\u001b[0m FE \u001b[38;5;241m=\u001b[39m FrameExtractor()\n\u001b[1;32m----> 4\u001b[0m \u001b[43mFE\u001b[49m\u001b[38;5;241;43m.\u001b[39;49m\u001b[43mshowPosition\u001b[49m\u001b[43m(\u001b[49m\u001b[43mframe\u001b[49m\u001b[43m)\u001b[49m\n\u001b[0;32m      5\u001b[0m \u001b[38;5;66;03m# pd=pointsDetector()\u001b[39;00m\n\u001b[0;32m      6\u001b[0m \u001b[38;5;66;03m# def a ():\u001b[39;00m\n\u001b[0;32m      7\u001b[0m \u001b[38;5;66;03m#     results = pd.extractPoints(frame)\u001b[39;00m\n\u001b[1;32m   (...)\u001b[0m\n\u001b[0;32m     11\u001b[0m \u001b[38;5;66;03m#         print(results.left_hand_landmarks[0]) \u001b[39;00m\n\u001b[0;32m     12\u001b[0m \u001b[38;5;66;03m# a()\u001b[39;00m\n",
      "File \u001b[1;32mc:\\Users\\48113164\\Documents\\GitHub\\SignAI-IA.dev\\AI-ML_Development\\FrameExtractorClass.py:122\u001b[0m, in \u001b[0;36mFrameExtractor.showPosition\u001b[1;34m(self, image)\u001b[0m\n\u001b[0;32m    120\u001b[0m results \u001b[38;5;241m=\u001b[39m \u001b[38;5;28mself\u001b[39m\u001b[38;5;241m.\u001b[39mpoint_detector\u001b[38;5;241m.\u001b[39mextractPoints(image)\n\u001b[0;32m    121\u001b[0m \u001b[38;5;28;01mif\u001b[39;00m results\u001b[38;5;241m.\u001b[39mright_hand_landmarks:\n\u001b[1;32m--> 122\u001b[0m     \u001b[38;5;28;01mfor\u001b[39;00m i \u001b[38;5;129;01min\u001b[39;00m results\u001b[38;5;241m.\u001b[39mright_hand_landmarks:\n\u001b[0;32m    123\u001b[0m         zsum\u001b[38;5;241m+\u001b[39m\u001b[38;5;241m=\u001b[39m results\u001b[38;5;241m.\u001b[39mright_hand_landmarks\u001b[38;5;241m.\u001b[39mlandmark[i]\u001b[38;5;241m.\u001b[39mz\n\u001b[0;32m    124\u001b[0m     zAverage\u001b[38;5;241m=\u001b[39m zsum\u001b[38;5;241m/\u001b[39m\u001b[38;5;28mlen\u001b[39m(results\u001b[38;5;241m.\u001b[39mright_hand_landmarks)\n",
      "\u001b[1;31mTypeError\u001b[0m: 'NormalizedLandmarkList' object is not iterable"
     ]
    }
   ],
   "source": [
    "image_path = 'C:\\\\Users\\\\48113164\\\\Documents\\\\GitHub\\\\SignAI-IA.dev\\\\AI-ML_Development\\\\recursos\\\\a.jpg'\n",
    "frame = cv2.imread(image_path)\n",
    "FE = FrameExtractor()\n",
    "FE.showPosition(frame)\n",
    "# pd=pointsDetector()\n",
    "# def a ():\n",
    "#     results = pd.extractPoints(frame)\n",
    "#     if results.right_hand_landmarks:\n",
    "#         print(results.right_hand_landmarks[0])\n",
    "#     if results.left_hand_landmarks:\n",
    "#         print(results.left_hand_landmarks[0]) \n",
    "# a()"
   ]
  },
  {
   "cell_type": "code",
   "execution_count": null,
   "metadata": {},
   "outputs": [],
   "source": []
  }
 ],
 "metadata": {
  "kernelspec": {
   "display_name": ".venv",
   "language": "python",
   "name": "python3"
  },
  "language_info": {
   "codemirror_mode": {
    "name": "ipython",
    "version": 3
   },
   "file_extension": ".py",
   "mimetype": "text/x-python",
   "name": "python",
   "nbconvert_exporter": "python",
   "pygments_lexer": "ipython3",
   "version": "3.10.0"
  }
 },
 "nbformat": 4,
 "nbformat_minor": 2
}
